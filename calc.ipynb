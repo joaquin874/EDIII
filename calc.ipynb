{
 "cells": [
  {
   "cell_type": "markdown",
   "metadata": {},
   "source": [
    "## Calculo tiempo con Timer\n",
    "**Calcular cual es el tiempo máximo que se puede temporizar utilizando un timer en modo match con máximo valor de prescaler y máximo divisor de frecuencia de periférico. Especificar el valor a cargar en los correspondientes registros del timer. Suponer una frecuencia de core cclk de 50 Mhz.**\n",
    "\n",
    "Tomando en cuenta que el valor del clock\n",
    "$$\n",
    "f_{clock} = 50 [MHz]\n",
    "$$\n",
    "Configurando con **PCLKSEL0**, podemos hacer que el timer tenga una frecuencia de:\n",
    "$$\n",
    "f_{timer} = \\frac{50}{8}[MHz]= 6,25[MHz]\n",
    "$$\n",
    "El valor maximo del timer es de $2^{32}-1$ entonces el valor del timer aumenta cada $T=\\frac{1}{f_{timer}}=1,6x10^{-7}[Seg]$.\n",
    "Ademas con el registro PR(Prescaler Register) puedo aumentar el tiempo de temporizacion y si coloco el valor maximo admitido por el PR:\n",
    "$$\n",
    "PeriodoClock=\\frac{PR+1}{TimerClock}=\\frac{2^{32}-1}{6,25[Mhz]}=687,19[Seg]\n",
    "$$\n",
    "Entonces:\n",
    "Lo que seria aproximadamente $12[Min]$, quiere decir que el Timer hace una cuenta cada $12[Min]$\n",
    "\n",
    "\n"
   ]
  },
  {
   "cell_type": "markdown",
   "metadata": {},
   "source": [
    "## Configuracion ADC_1\n",
    "\n",
    "**A partir del código ejemplo visto en clase:**\n",
    "\n",
    "**1.- Determine la frecuencia de trabajo y de muestreo del ADC suponiendo una frecuencia de cclk de 100 Mhz. ¿En que modo se encuentra trabajando el ADC?**\n",
    "\n",
    "**2.- Modifique el ejemplo para considerar la utilización de dos canales de conversión. Adjuntar el código en C. ¿A que frecuencia se encuentra muestreando cada canal?**\n",
    "\n",
    "1) "
   ]
  }
 ],
 "metadata": {
  "language_info": {
   "name": "python"
  }
 },
 "nbformat": 4,
 "nbformat_minor": 2
}
